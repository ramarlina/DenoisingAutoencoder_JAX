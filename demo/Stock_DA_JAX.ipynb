{
  "nbformat": 4,
  "nbformat_minor": 0,
  "metadata": {
    "colab": {
      "name": "TimeSeries - DA - JAX.ipynb",
      "provenance": [],
      "private_outputs": true
    },
    "kernelspec": {
      "name": "python3",
      "display_name": "Python 3"
    }
  },
  "cells": [
    {
      "cell_type": "code",
      "metadata": {
        "id": "AAvUVFIxVFtV",
        "colab_type": "code",
        "colab": {}
      },
      "source": [
        "!git clone https://github.com/ramarlina/DenoisingAutoencoder_JAX.git\n",
        "!pip install yfinance"
      ],
      "execution_count": null,
      "outputs": []
    },
    {
      "cell_type": "code",
      "metadata": {
        "id": "Uakvmr1uVCIH",
        "colab_type": "code",
        "colab": {}
      },
      "source": [
        "%env JAX_ENABLE_X64=1\n",
        "%env JAX_PLATFORM_NAME=gpu\n",
        "\n",
        "\n",
        "import sys\n",
        "sys.path.append(\"DenoisingAutoencoder_JAX/src\")\n",
        "\n",
        "import yfinance as yf  \n",
        "import numpy as np\n",
        "\n",
        "from model import AutoEncoder\n",
        "from noise import GaussianNoise\n",
        "from loss import MaxSE\n",
        "from tqdm import tqdm\n",
        "from utils import rolling_window\n",
        "\n",
        "stock_data = yf.download('CFR', \n",
        "                      start='2012-01-01', \n",
        "                      end='2020-05-31', \n",
        "                      progress=False) \n",
        "\n",
        "closing_prices = stock_data[\"Close\"].rolling(window=3).mean()[3:].values "
      ],
      "execution_count": null,
      "outputs": []
    },
    {
      "cell_type": "code",
      "metadata": {
        "id": "-KI05npOVkgT",
        "colab_type": "code",
        "colab": {}
      },
      "source": [
        "# initialization\n",
        "window = 5\n",
        "\n",
        "dA_model = AutoEncoder(window, 4)  \n",
        "loss = MaxSE()\n",
        "\n",
        "y = closing_prices.copy()"
      ],
      "execution_count": null,
      "outputs": []
    },
    {
      "cell_type": "code",
      "metadata": {
        "id": "nJhIlnRZVyey",
        "colab_type": "code",
        "colab": {}
      },
      "source": [
        "# training\n",
        "for i in range(5):\n",
        "    e = []\n",
        "    T = rolling_window(y.copy()[:1000], window)\n",
        "\n",
        "    np.random.shuffle(T)\n",
        "    for t in tqdm(T): \n",
        "        t -= t.min()\n",
        "        t /= t.max()\n",
        "        t -= 0.5\n",
        "        t *= 2\n",
        "        e.append(dA_model.learn(t, loss, noise=GaussianNoise(0,0.001)))\n",
        "\n",
        "    print(\"\\n\", np.mean(e), \"\\n\") "
      ],
      "execution_count": null,
      "outputs": []
    },
    {
      "cell_type": "code",
      "metadata": {
        "id": "_uAj6eY5V1Ze",
        "colab_type": "code",
        "colab": {}
      },
      "source": [
        "# encoding\n",
        "prices = [i.copy() for i in np.array_split(y, len(y)//window) if len(i) == window]\n",
        "p = []\n",
        "T = []\n",
        "r = []\n",
        "for i in prices:\n",
        "    i -= i.min()\n",
        "    i /= i.max()\n",
        "    i  = 2 * (i - 0.5)\n",
        "    T.append(i)\n",
        "    H = dA_model.encode(i)\n",
        "    H = (H > np.random.uniform(-1,1,H.shape)).astype(\"f\")\n",
        "    r.append(dA_model.decode(H))\n",
        "    p.append(H)\n",
        "\n",
        "p = np.array(p)"
      ],
      "execution_count": null,
      "outputs": []
    },
    {
      "cell_type": "code",
      "metadata": {
        "id": "C_rOdDrOV9r4",
        "colab_type": "code",
        "colab": {}
      },
      "source": [
        "# mapping binary representations to unique values\n",
        "cid = p.dot(np.power(2, range(p.shape[1])).reshape(p.shape[1],))\n",
        "unique_vals = np.unique(cid.flatten())\n",
        "val_map = dict((v, i) for i, v in enumerate(unique_vals))\n",
        "cid = np.array([val_map[i] for i in cid])\n",
        "unique_vals = np.array(list(val_map.values()))\n",
        "len(unique_vals)"
      ],
      "execution_count": null,
      "outputs": []
    },
    {
      "cell_type": "code",
      "metadata": {
        "id": "WzgxSSn0WA-L",
        "colab_type": "code",
        "colab": {}
      },
      "source": [
        "from matplotlib import pyplot as plt\n",
        "\n",
        "# frequency distribution\n",
        "plt.hist(cid)"
      ],
      "execution_count": null,
      "outputs": []
    },
    {
      "cell_type": "code",
      "metadata": {
        "id": "J1579B73WGir",
        "colab_type": "code",
        "colab": {}
      },
      "source": [
        "x = np.arange(len(cid))\n",
        "Pt = np.hstack([i.copy() for i in np.array_split(y, len(y)//window) if len(i) == window])\n",
        "idx = np.arange(len(Pt))\n",
        "p = np.column_stack([cid]*window).ravel()\n",
        "\n",
        "plt.figure(figsize=(15,5))\n",
        "plt.plot(Pt)\n",
        "\n",
        "for i in np.unique(cid):\n",
        "    plt.plot(idx[p==i], Pt[p==i],\"o\")"
      ],
      "execution_count": null,
      "outputs": []
    },
    {
      "cell_type": "code",
      "metadata": {
        "id": "d55VE4GwWfdV",
        "colab_type": "code",
        "colab": {}
      },
      "source": [
        ""
      ],
      "execution_count": null,
      "outputs": []
    }
  ]
}